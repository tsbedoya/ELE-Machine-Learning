{
 "cells": [
  {
   "cell_type": "markdown",
   "metadata": {},
   "source": [
    "# Proyecto de curso Machine Learning"
   ]
  },
  {
   "cell_type": "code",
   "execution_count": 1,
   "metadata": {},
   "outputs": [],
   "source": [
    "import os, sys, re\n",
    "import pandas as pd\n",
    "import matplotlib.pyplot as plt\n",
    "import numpy as np"
   ]
  },
  {
   "cell_type": "code",
   "execution_count": 2,
   "metadata": {},
   "outputs": [],
   "source": [
    "parameters = {\n",
    "    'path': os.path.dirname(sys.path[0]),\n",
    "    'path_in': os.path.join(os.path.dirname(sys.path[0]), '01_data'),\n",
    "    'path_out': os.path.join(os.path.dirname(sys.path[0]), '02_output')\n",
    "}"
   ]
  },
  {
   "cell_type": "markdown",
   "metadata": {},
   "source": [
    "## 1.) Curación de datos"
   ]
  },
  {
   "cell_type": "code",
   "execution_count": 3,
   "metadata": {},
   "outputs": [
    {
     "data": {
      "text/html": [
       "<div>\n",
       "<style scoped>\n",
       "    .dataframe tbody tr th:only-of-type {\n",
       "        vertical-align: middle;\n",
       "    }\n",
       "\n",
       "    .dataframe tbody tr th {\n",
       "        vertical-align: top;\n",
       "    }\n",
       "\n",
       "    .dataframe thead th {\n",
       "        text-align: right;\n",
       "    }\n",
       "</style>\n",
       "<table border=\"1\" class=\"dataframe\">\n",
       "  <thead>\n",
       "    <tr style=\"text-align: right;\">\n",
       "      <th></th>\n",
       "      <th>S1</th>\n",
       "      <th>C1</th>\n",
       "      <th>S2</th>\n",
       "      <th>C2</th>\n",
       "      <th>S3</th>\n",
       "      <th>C3</th>\n",
       "      <th>S4</th>\n",
       "      <th>C4</th>\n",
       "      <th>S5</th>\n",
       "      <th>C5</th>\n",
       "      <th>CLASS</th>\n",
       "    </tr>\n",
       "  </thead>\n",
       "  <tbody>\n",
       "    <tr>\n",
       "      <th>0</th>\n",
       "      <td>1</td>\n",
       "      <td>10</td>\n",
       "      <td>1</td>\n",
       "      <td>11</td>\n",
       "      <td>1</td>\n",
       "      <td>13</td>\n",
       "      <td>1</td>\n",
       "      <td>12</td>\n",
       "      <td>1</td>\n",
       "      <td>1</td>\n",
       "      <td>9</td>\n",
       "    </tr>\n",
       "    <tr>\n",
       "      <th>1</th>\n",
       "      <td>2</td>\n",
       "      <td>11</td>\n",
       "      <td>2</td>\n",
       "      <td>13</td>\n",
       "      <td>2</td>\n",
       "      <td>10</td>\n",
       "      <td>2</td>\n",
       "      <td>12</td>\n",
       "      <td>2</td>\n",
       "      <td>1</td>\n",
       "      <td>9</td>\n",
       "    </tr>\n",
       "    <tr>\n",
       "      <th>2</th>\n",
       "      <td>3</td>\n",
       "      <td>12</td>\n",
       "      <td>3</td>\n",
       "      <td>11</td>\n",
       "      <td>3</td>\n",
       "      <td>13</td>\n",
       "      <td>3</td>\n",
       "      <td>10</td>\n",
       "      <td>3</td>\n",
       "      <td>1</td>\n",
       "      <td>9</td>\n",
       "    </tr>\n",
       "    <tr>\n",
       "      <th>3</th>\n",
       "      <td>4</td>\n",
       "      <td>10</td>\n",
       "      <td>4</td>\n",
       "      <td>11</td>\n",
       "      <td>4</td>\n",
       "      <td>1</td>\n",
       "      <td>4</td>\n",
       "      <td>13</td>\n",
       "      <td>4</td>\n",
       "      <td>12</td>\n",
       "      <td>9</td>\n",
       "    </tr>\n",
       "    <tr>\n",
       "      <th>4</th>\n",
       "      <td>4</td>\n",
       "      <td>1</td>\n",
       "      <td>4</td>\n",
       "      <td>13</td>\n",
       "      <td>4</td>\n",
       "      <td>12</td>\n",
       "      <td>4</td>\n",
       "      <td>11</td>\n",
       "      <td>4</td>\n",
       "      <td>10</td>\n",
       "      <td>9</td>\n",
       "    </tr>\n",
       "  </tbody>\n",
       "</table>\n",
       "</div>"
      ],
      "text/plain": [
       "   S1  C1  S2  C2  S3  C3  S4  C4  S5  C5  CLASS\n",
       "0   1  10   1  11   1  13   1  12   1   1      9\n",
       "1   2  11   2  13   2  10   2  12   2   1      9\n",
       "2   3  12   3  11   3  13   3  10   3   1      9\n",
       "3   4  10   4  11   4   1   4  13   4  12      9\n",
       "4   4   1   4  13   4  12   4  11   4  10      9"
      ]
     },
     "execution_count": 3,
     "metadata": {},
     "output_type": "execute_result"
    }
   ],
   "source": [
    "proyect_name = 'poker-hand'\n",
    "datasets = {\n",
    "    'testing': os.path.join(parameters['path_in'], proyect_name, 'poker-hand-training-true.data'),\n",
    "    'training': os.path.join(parameters['path_in'], proyect_name, 'poker-hand-testing.data')\n",
    "}\n",
    "\n",
    "df_testing = pd.read_csv(datasets['testing'], header=None, names=['S1','C1','S2','C2','S3','C3','S4','C4','S5','C5','CLASS'])\n",
    "df_training = pd.read_csv(datasets['training'], header=None, names=['S1','C1','S2','C2','S3','C3','S4','C4','S5','C5','CLASS'])\n",
    "\n",
    "\n",
    "df = pd.concat([df_testing, df_training], ignore_index=True)\n",
    "df.head()"
   ]
  },
  {
   "cell_type": "code",
   "execution_count": 4,
   "metadata": {},
   "outputs": [
    {
     "name": "stdout",
     "output_type": "stream",
     "text": [
      "<class 'pandas.core.frame.DataFrame'>\n",
      "RangeIndex: 1025010 entries, 0 to 1025009\n",
      "Data columns (total 11 columns):\n",
      " #   Column  Non-Null Count    Dtype\n",
      "---  ------  --------------    -----\n",
      " 0   S1      1025010 non-null  int64\n",
      " 1   C1      1025010 non-null  int64\n",
      " 2   S2      1025010 non-null  int64\n",
      " 3   C2      1025010 non-null  int64\n",
      " 4   S3      1025010 non-null  int64\n",
      " 5   C3      1025010 non-null  int64\n",
      " 6   S4      1025010 non-null  int64\n",
      " 7   C4      1025010 non-null  int64\n",
      " 8   S5      1025010 non-null  int64\n",
      " 9   C5      1025010 non-null  int64\n",
      " 10  CLASS   1025010 non-null  int64\n",
      "dtypes: int64(11)\n",
      "memory usage: 86.0 MB\n",
      "None\n",
      "shape: (1025010, 11)\n"
     ]
    }
   ],
   "source": [
    "# Informacion del DataFrame\n",
    "print(df.info())\n",
    "print('shape:', df.shape)"
   ]
  },
  {
   "cell_type": "code",
   "execution_count": 5,
   "metadata": {},
   "outputs": [
    {
     "data": {
      "text/plain": [
       "CLASS\n",
       "0    513702\n",
       "1    433097\n",
       "2     48828\n",
       "3     21634\n",
       "4      3978\n",
       "5      2050\n",
       "6      1460\n",
       "7       236\n",
       "8        17\n",
       "9         8\n",
       "Name: count, dtype: int64"
      ]
     },
     "execution_count": 5,
     "metadata": {},
     "output_type": "execute_result"
    }
   ],
   "source": [
    "df.value_counts('CLASS')"
   ]
  },
  {
   "cell_type": "markdown",
   "metadata": {},
   "source": [
    "## 2.) Selección de Características"
   ]
  },
  {
   "cell_type": "markdown",
   "metadata": {},
   "source": [
    "### 2.1.) Componentes Principales (PCA)"
   ]
  },
  {
   "cell_type": "code",
   "execution_count": 6,
   "metadata": {},
   "outputs": [],
   "source": [
    "from sklearn.preprocessing import StandardScaler\n",
    "from sklearn.decomposition import PCA"
   ]
  },
  {
   "cell_type": "code",
   "execution_count": 7,
   "metadata": {},
   "outputs": [],
   "source": [
    "# Estandarizar los rangos de las cartas\n",
    "scaler = StandardScaler()\n",
    "X = df.iloc[:,:-1].values\n",
    "X_scaled = scaler.fit_transform(X)"
   ]
  },
  {
   "cell_type": "code",
   "execution_count": 8,
   "metadata": {},
   "outputs": [],
   "source": [
    "# Aplicar PCA\n",
    "\n",
    "pca = PCA(n_components=None)\n",
    "Xpca = pca.fit_transform(X_scaled)\n",
    "pilambda = pca.explained_variance_ratio_\n",
    "Xloadings = pca.components_.T * np.sqrt(pilambda)"
   ]
  },
  {
   "cell_type": "code",
   "execution_count": 9,
   "metadata": {},
   "outputs": [
    {
     "name": "stdout",
     "output_type": "stream",
     "text": [
      "Varianza explicada por cada componente: [0.10255461 0.10221355 0.10207898 0.10205923 0.10189938 0.1018206\n",
      " 0.10166758 0.10162753 0.0921793  0.09189924]\n",
      "Varianza explicada acumulada: [0.10255461 0.20476815 0.30684714 0.40890637 0.51080575 0.61262635\n",
      " 0.71429393 0.81592146 0.90810076 1.        ]\n"
     ]
    }
   ],
   "source": [
    "# Varianza explicada por cada componente\n",
    "explained_variance = pca.explained_variance_ratio_\n",
    "cumulative_explained_variance = np.cumsum(explained_variance)\n",
    "\n",
    "print('Varianza explicada por cada componente:', explained_variance)\n",
    "print('Varianza explicada acumulada:', cumulative_explained_variance)"
   ]
  },
  {
   "cell_type": "code",
   "execution_count": 10,
   "metadata": {},
   "outputs": [
    {
     "data": {
      "image/png": "[encoded data removed]",
      "text/plain": [
       "<Figure size 1000x600 with 1 Axes>"
      ]
     },
     "metadata": {},
     "output_type": "display_data"
    }
   ],
   "source": [
    "# Graficar la varianza explicada y la varianza explicada acumulada\n",
    "plt.figure(figsize=(10, 6))\n",
    "plt.bar(range(1, len(explained_variance) + 1), explained_variance, alpha=0.6, align='center',\n",
    "        label='Varianza explicada individual', color='g')\n",
    "plt.step(range(1, len(cumulative_explained_variance) + 1), cumulative_explained_variance, where='mid',\n",
    "         label='Varianza explicada acumulada', color='r')\n",
    "plt.ylabel('Porcentaje de Varianza Explicada')\n",
    "plt.xlabel('Componentes Principales')\n",
    "plt.title('Análisis de Componentes Principales - Varianza Explicada')\n",
    "plt.legend(loc='best')\n",
    "plt.tight_layout()\n",
    "plt.show()"
   ]
  },
  {
   "cell_type": "code",
   "execution_count": 11,
   "metadata": {},
   "outputs": [
    {
     "data": {
      "image/png": "[encoded data removed]",
      "text/plain": [
       "<Figure size 640x480 with 2 Axes>"
      ]
     },
     "metadata": {},
     "output_type": "display_data"
    }
   ],
   "source": [
    "plt.subplot(211)\n",
    "plt.plot(range(X.shape[1]),pilambda,'o-')\n",
    "plt.ylabel('Razón de varianza')\n",
    "plt.title(np.sum(pilambda[0:5]))\n",
    "plt.subplot(212)\n",
    "plt.bar(range(X.shape[1]),Xloadings[:,2])\n",
    "plt.ylabel('Loadings de PC')\n",
    "plt.show()"
   ]
  },
  {
   "cell_type": "markdown",
   "metadata": {},
   "source": [
    "### 2.2.) ReliefF "
   ]
  },
  {
   "cell_type": "code",
   "execution_count": 28,
   "metadata": {},
   "outputs": [
    {
     "name": "stdout",
     "output_type": "stream",
     "text": [
      "<class 'pandas.core.frame.DataFrame'>\n",
      "RangeIndex: 1025010 entries, 0 to 1025009\n",
      "Data columns (total 11 columns):\n",
      " #   Column  Non-Null Count    Dtype\n",
      "---  ------  --------------    -----\n",
      " 0   S1      1025010 non-null  int64\n",
      " 1   C1      1025010 non-null  int64\n",
      " 2   S2      1025010 non-null  int64\n",
      " 3   C2      1025010 non-null  int64\n",
      " 4   S3      1025010 non-null  int64\n",
      " 5   C3      1025010 non-null  int64\n",
      " 6   S4      1025010 non-null  int64\n",
      " 7   C4      1025010 non-null  int64\n",
      " 8   S5      1025010 non-null  int64\n",
      " 9   C5      1025010 non-null  int64\n",
      " 10  CLASS   1025010 non-null  int64\n",
      "dtypes: int64(11)\n",
      "memory usage: 86.0 MB\n",
      "None\n"
     ]
    },
    {
     "ename": "",
     "evalue": "",
     "output_type": "error",
     "traceback": [
      "\u001b[1;31mEl kernel se bloqueó al ejecutar código en la celda actual o en una celda anterior. \n",
      "\u001b[1;31mRevise el código de las celdas para identificar una posible causa del error. \n",
      "\u001b[1;31mHaga clic <a href='https://aka.ms/vscodeJupyterKernelCrash'>aquí</a> para obtener más información. \n",
      "\u001b[1;31mVea Jupyter <a href='command:jupyter.viewOutput'>log</a> para obtener más detalles."
     ]
    }
   ],
   "source": [
    "from skrebate import ReliefF\n",
    "\n",
    "print(df.info())\n",
    "X = df.iloc[:,:-1].values\n",
    "L = df.iloc[:,-1].values\n",
    "r = ReliefF(n_neighbors=2, n_features_to_select=None)\n",
    "M = r.fit(X, L)\n",
    "for feature_name, feature_score in zip(df.drop('CLASS', axis=1).columns,\n",
    "                                       r.feature_importances_):\n",
    "    print(feature_name, '\\t', feature_score)\n",
    "    \n",
    "print(r.feature_importances_)"
   ]
  }
 ],
 "metadata": {
  "kernelspec": {
   "display_name": "Python 3",
   "language": "python",
   "name": "python3"
  },
  "language_info": {
   "codemirror_mode": {
    "name": "ipython",
    "version": 3
   },
   "file_extension": ".py",
   "mimetype": "text/x-python",
   "name": "python",
   "nbconvert_exporter": "python",
   "pygments_lexer": "ipython3",
   "version": "3.12.2"
  }
 },
 "nbformat": 4,
 "nbformat_minor": 2
}
