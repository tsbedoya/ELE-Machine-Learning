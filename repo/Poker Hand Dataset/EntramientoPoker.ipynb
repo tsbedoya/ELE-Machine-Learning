{
 "cells": [
  {
   "cell_type": "code",
   "execution_count": 1,
   "metadata": {},
   "outputs": [
    {
     "name": "stdout",
     "output_type": "stream",
     "text": [
      "/Users/davinanaya/Desktop/ELE-Machine-Learning/repo\n"
     ]
    }
   ],
   "source": [
    "import pandas as pd\n",
    "import numpy as np\n",
    "import matplotlib.pyplot as plt\n",
    "from sklearn.metrics import accuracy_score, classification_report, fowlkes_mallows_score, confusion_matrix, ConfusionMatrixDisplay\n",
    "from sklearn.tree import DecisionTreeClassifier\n",
    "from sklearn.ensemble import RandomForestClassifier\n",
    "from sklearn.svm import SVC\n",
    "from sklearn.model_selection import cross_val_score, train_test_split\n",
    "from Config import df"
   ]
  },
  {
   "cell_type": "markdown",
   "metadata": {},
   "source": [
    "### a.) Extracción de caracteristicas y columnas"
   ]
  },
  {
   "cell_type": "code",
   "execution_count": 2,
   "metadata": {},
   "outputs": [
    {
     "data": {
      "text/html": [
       "<div>\n",
       "<style scoped>\n",
       "    .dataframe tbody tr th:only-of-type {\n",
       "        vertical-align: middle;\n",
       "    }\n",
       "\n",
       "    .dataframe tbody tr th {\n",
       "        vertical-align: top;\n",
       "    }\n",
       "\n",
       "    .dataframe thead th {\n",
       "        text-align: right;\n",
       "    }\n",
       "</style>\n",
       "<table border=\"1\" class=\"dataframe\">\n",
       "  <thead>\n",
       "    <tr style=\"text-align: right;\">\n",
       "      <th></th>\n",
       "      <th>C1</th>\n",
       "      <th>C2</th>\n",
       "      <th>C3</th>\n",
       "      <th>C4</th>\n",
       "      <th>C5</th>\n",
       "    </tr>\n",
       "  </thead>\n",
       "  <tbody>\n",
       "    <tr>\n",
       "      <th>0</th>\n",
       "      <td>10</td>\n",
       "      <td>11</td>\n",
       "      <td>13</td>\n",
       "      <td>12</td>\n",
       "      <td>1</td>\n",
       "    </tr>\n",
       "    <tr>\n",
       "      <th>1</th>\n",
       "      <td>11</td>\n",
       "      <td>13</td>\n",
       "      <td>10</td>\n",
       "      <td>12</td>\n",
       "      <td>1</td>\n",
       "    </tr>\n",
       "    <tr>\n",
       "      <th>2</th>\n",
       "      <td>12</td>\n",
       "      <td>11</td>\n",
       "      <td>13</td>\n",
       "      <td>10</td>\n",
       "      <td>1</td>\n",
       "    </tr>\n",
       "    <tr>\n",
       "      <th>3</th>\n",
       "      <td>10</td>\n",
       "      <td>11</td>\n",
       "      <td>1</td>\n",
       "      <td>13</td>\n",
       "      <td>12</td>\n",
       "    </tr>\n",
       "    <tr>\n",
       "      <th>4</th>\n",
       "      <td>1</td>\n",
       "      <td>13</td>\n",
       "      <td>12</td>\n",
       "      <td>11</td>\n",
       "      <td>10</td>\n",
       "    </tr>\n",
       "    <tr>\n",
       "      <th>...</th>\n",
       "      <td>...</td>\n",
       "      <td>...</td>\n",
       "      <td>...</td>\n",
       "      <td>...</td>\n",
       "      <td>...</td>\n",
       "    </tr>\n",
       "    <tr>\n",
       "      <th>1025005</th>\n",
       "      <td>1</td>\n",
       "      <td>12</td>\n",
       "      <td>9</td>\n",
       "      <td>9</td>\n",
       "      <td>6</td>\n",
       "    </tr>\n",
       "    <tr>\n",
       "      <th>1025006</th>\n",
       "      <td>3</td>\n",
       "      <td>5</td>\n",
       "      <td>7</td>\n",
       "      <td>4</td>\n",
       "      <td>3</td>\n",
       "    </tr>\n",
       "    <tr>\n",
       "      <th>1025007</th>\n",
       "      <td>11</td>\n",
       "      <td>7</td>\n",
       "      <td>9</td>\n",
       "      <td>13</td>\n",
       "      <td>7</td>\n",
       "    </tr>\n",
       "    <tr>\n",
       "      <th>1025008</th>\n",
       "      <td>11</td>\n",
       "      <td>8</td>\n",
       "      <td>1</td>\n",
       "      <td>13</td>\n",
       "      <td>8</td>\n",
       "    </tr>\n",
       "    <tr>\n",
       "      <th>1025009</th>\n",
       "      <td>5</td>\n",
       "      <td>9</td>\n",
       "      <td>9</td>\n",
       "      <td>3</td>\n",
       "      <td>3</td>\n",
       "    </tr>\n",
       "  </tbody>\n",
       "</table>\n",
       "<p>1025010 rows × 5 columns</p>\n",
       "</div>"
      ],
      "text/plain": [
       "         C1  C2  C3  C4  C5\n",
       "0        10  11  13  12   1\n",
       "1        11  13  10  12   1\n",
       "2        12  11  13  10   1\n",
       "3        10  11   1  13  12\n",
       "4         1  13  12  11  10\n",
       "...      ..  ..  ..  ..  ..\n",
       "1025005   1  12   9   9   6\n",
       "1025006   3   5   7   4   3\n",
       "1025007  11   7   9  13   7\n",
       "1025008  11   8   1  13   8\n",
       "1025009   5   9   9   3   3\n",
       "\n",
       "[1025010 rows x 5 columns]"
      ]
     },
     "execution_count": 2,
     "metadata": {},
     "output_type": "execute_result"
    }
   ],
   "source": [
    "cards = df[[\"C1\", \"C2\", \"C3\", \"C4\", \"C5\"]]\n",
    "# suits = df[[\"S1\", \"S2\", \"S3\", \"S4\", \"S5\"]]\n",
    "\n",
    "# Separando los datos en características y objetivo\n",
    "X = cards # df.drop(['CLASS'] + list(allColumns.columns), axis=1)\n",
    "y = df['CLASS']\n",
    "X"
   ]
  },
  {
   "cell_type": "code",
   "execution_count": 3,
   "metadata": {},
   "outputs": [],
   "source": [
    "# Dividir el conjunto de datos en conjuntos de entrenamiento y prueba\n",
    "X_train, X_test, y_train, y_test = train_test_split(X, y, test_size=0.2, random_state=42)"
   ]
  },
  {
   "cell_type": "code",
   "execution_count": 4,
   "metadata": {},
   "outputs": [
    {
     "name": "stdout",
     "output_type": "stream",
     "text": [
      "---------- DecisionTreeClassifier ----------\n",
      "Completado con una precisión de:  [0.9670491  0.96708813 0.9682247  0.96821007 0.96813202] \n",
      "\n"
     ]
    },
    {
     "name": "stderr",
     "output_type": "stream",
     "text": [
      "/Users/davinanaya/opt/anaconda3/envs/ml-imgs/lib/python3.12/site-packages/sklearn/metrics/_classification.py:1509: UndefinedMetricWarning: Precision is ill-defined and being set to 0.0 in labels with no predicted samples. Use `zero_division` parameter to control this behavior.\n",
      "  _warn_prf(average, modifier, f\"{metric.capitalize()} is\", len(result))\n",
      "/Users/davinanaya/opt/anaconda3/envs/ml-imgs/lib/python3.12/site-packages/sklearn/metrics/_classification.py:1509: UndefinedMetricWarning: Precision is ill-defined and being set to 0.0 in labels with no predicted samples. Use `zero_division` parameter to control this behavior.\n",
      "  _warn_prf(average, modifier, f\"{metric.capitalize()} is\", len(result))\n",
      "/Users/davinanaya/opt/anaconda3/envs/ml-imgs/lib/python3.12/site-packages/sklearn/metrics/_classification.py:1509: UndefinedMetricWarning: Precision is ill-defined and being set to 0.0 in labels with no predicted samples. Use `zero_division` parameter to control this behavior.\n",
      "  _warn_prf(average, modifier, f\"{metric.capitalize()} is\", len(result))\n"
     ]
    },
    {
     "name": "stdout",
     "output_type": "stream",
     "text": [
      "              precision    recall  f1-score   support\n",
      "\n",
      "           0       0.98      0.99      0.98    102428\n",
      "           1       0.97      0.97      0.97     86945\n",
      "           2       0.90      0.87      0.88      9691\n",
      "           3       0.90      0.86      0.88      4352\n",
      "           4       0.90      0.91      0.90       808\n",
      "           5       0.01      0.00      0.00       405\n",
      "           6       0.57      0.57      0.57       308\n",
      "           7       0.67      0.47      0.55        60\n",
      "           8       0.00      0.00      0.00         3\n",
      "           9       0.00      0.00      0.00         2\n",
      "\n",
      "    accuracy                           0.97    205002\n",
      "   macro avg       0.59      0.56      0.57    205002\n",
      "weighted avg       0.97      0.97      0.97    205002\n",
      "\n",
      "Fowlkes-Mallows Index: 0.955347584323093\n"
     ]
    }
   ],
   "source": [
    "#Decision Tree Classifier\n",
    "print(\"---------- DecisionTreeClassifier ----------\")\n",
    "hands_fit = DecisionTreeClassifier(random_state=1).fit(X_train, y_train)\n",
    "y_pred = hands_fit.predict(X_test)\n",
    "scores = cross_val_score(hands_fit, X, y, cv=5)\n",
    "print(\"Completado con una precisión de: \", scores, \"\\n\")\n",
    "print(classification_report(y_test, y_pred))\n",
    "fmi = fowlkes_mallows_score(y_test, y_pred)\n",
    "print(\"Fowlkes-Mallows Index:\", fmi)\n"
   ]
  },
  {
   "cell_type": "code",
   "execution_count": 5,
   "metadata": {},
   "outputs": [
    {
     "data": {
      "image/png": "[encoded data removed]",
      "text/plain": [
       "<Figure size 1000x1000 with 2 Axes>"
      ]
     },
     "metadata": {},
     "output_type": "display_data"
    }
   ],
   "source": [
    "result_confusion_matrix = confusion_matrix(y_test, y_pred)\n",
    "cm_display = ConfusionMatrixDisplay(confusion_matrix = result_confusion_matrix)\n",
    "\n",
    "# NOTE: Fill all variables here with default values of the plot_confusion_matrix\n",
    "fig, ax = plt.subplots(figsize=(10, 10))\n",
    "disp = cm_display.plot(xticks_rotation='vertical', ax=ax,cmap='summer')\n",
    "\n",
    "plt.show()"
   ]
  },
  {
   "cell_type": "code",
   "execution_count": null,
   "metadata": {},
   "outputs": [],
   "source": [
    "# Random Forest Classifier\n",
    "print(\"---------- RandomForestClassifier ----------\")\n",
    "fit = RandomForestClassifier(random_state=1).fit(X_train, y_train)\n",
    "y_predV2 = fit.predict(X_test)\n",
    "scores = cross_val_score(fit, X, y, cv=5)\n",
    "print(\"Completado con una precisión de: \", scores, \"\\n\")\n",
    "print(classification_report(y_test, y_predV2))\n",
    "fmiV2 = fowlkes_mallows_score(y_test, y_predV2)\n",
    "print(\"Fowlkes-Mallows Index:\", fmiV2)"
   ]
  },
  {
   "cell_type": "code",
   "execution_count": null,
   "metadata": {},
   "outputs": [],
   "source": [
    "result_confusion_matrixV2 = confusion_matrix(y_test, y_predV2)\n",
    "cm_displayV2 = ConfusionMatrixDisplay(confusion_matrix = result_confusion_matrixV2)\n",
    "\n",
    "# NOTE: Fill all variables here with default values of the plot_confusion_matrix\n",
    "fig, ax = plt.subplots(figsize=(10, 10))\n",
    "disp = cm_displayV2.plot(xticks_rotation='vertical', ax=ax,cmap='summer')\n",
    "\n",
    "plt.show()"
   ]
  },
  {
   "cell_type": "code",
   "execution_count": null,
   "metadata": {},
   "outputs": [],
   "source": [
    "# SVM Classifier\n",
    "print(\"---------- SupportVectorMachine ----------\")\n",
    "svm_classifier = SVC(kernel='linear').fit(X_train, y_train)\n",
    "y_predV3 = svm_classifier.predict(X_test)\n",
    "scores = cross_val_score(svm_classifier, X, y, cv=5)\n",
    "print(\"Completado con una precisión de: \", scores, \"\\n\")\n",
    "print(classification_report(y_test, y_predV3))\n",
    "fmiV3 = fowlkes_mallows_score(y_test, y_predV3)\n",
    "print(\"Fowlkes-Mallows Index:\", fmiV3)"
   ]
  },
  {
   "cell_type": "code",
   "execution_count": null,
   "metadata": {},
   "outputs": [],
   "source": [
    "result_confusion_matrixV3 = confusion_matrix(y_test, y_predV3)\n",
    "cm_displayV3 = ConfusionMatrixDisplay(confusion_matrix = result_confusion_matrixV3)\n",
    "\n",
    "# NOTE: Fill all variables here with default values of the plot_confusion_matrix\n",
    "fig, ax = plt.subplots(figsize=(10, 10))\n",
    "disp = cm_displayV3.plot(xticks_rotation='vertical', ax=ax,cmap='summer')\n",
    "\n",
    "plt.show()"
   ]
  }
 ],
 "metadata": {
  "kernelspec": {
   "display_name": "base",
   "language": "python",
   "name": "python3"
  },
  "language_info": {
   "codemirror_mode": {
    "name": "ipython",
    "version": 3
   },
   "file_extension": ".py",
   "mimetype": "text/x-python",
   "name": "python",
   "nbconvert_exporter": "python",
   "pygments_lexer": "ipython3",
   "version": "3.12.2"
  }
 },
 "nbformat": 4,
 "nbformat_minor": 2
}
